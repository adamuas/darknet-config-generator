{
 "cells": [
  {
   "cell_type": "markdown",
   "metadata": {},
   "source": [
    "# Darknet Network Config Generator\n",
    "\n",
    "The Darknet Network Config Generator (DNetConfigGen) allows you to describe custom networks in keras-like fashion and generate a configuration file that you can use with your darknet trainer.\n"
   ]
  },
  {
   "cell_type": "code",
   "execution_count": 16,
   "metadata": {},
   "outputs": [],
   "source": [
    "from darknet_yolov3.config_generator.yolo_connections import *\n",
    "from darknet_yolov3.config_generator.yolo_layers import *\n",
    "from darknet_yolov3.config_generator.yolo_optimizers import *\n",
    "from darknet_yolov3.config_generator.yolo_preprocess import *\n",
    "from darknet_yolov3.config_generator.common import *\n",
    "from darknet_yolov3.config_generator.yolo_network import get_yolov3\n",
    "from darknet_yolov3.config_generator.yolo_darknet import YOLO"
   ]
  },
  {
   "cell_type": "markdown",
   "metadata": {},
   "source": [
    "## Usage Example - YoloV3 Network\n",
    "\n",
    "\n",
    "To use the network configuration generator, simply import yolo_network and yolo network"
   ]
  },
  {
   "cell_type": "markdown",
   "metadata": {},
   "source": [
    "#### Yolov3 Network Layers"
   ]
  },
  {
   "cell_type": "code",
   "execution_count": 17,
   "metadata": {},
   "outputs": [],
   "source": [
    "# get yolov3 network layers (included with config generator - feel free to extend this)\n",
    "yolov3_layers = yolo_network.get_yolov3(num_classes=80, anchors=YOLO_ANCHORS, num_anchors=9)"
   ]
  },
  {
   "cell_type": "markdown",
   "metadata": {},
   "source": [
    "#### Yolov3 Image Augmentation "
   ]
  },
  {
   "cell_type": "code",
   "execution_count": 18,
   "metadata": {},
   "outputs": [],
   "source": [
    "# see yolo_preprocess for parameters \n",
    "img_aug = YOLOImageAugmentation()"
   ]
  },
  {
   "cell_type": "markdown",
   "metadata": {},
   "source": [
    "#### Yolov3 Optimizer"
   ]
  },
  {
   "cell_type": "code",
   "execution_count": 19,
   "metadata": {},
   "outputs": [],
   "source": [
    "# learning rate decay with key as epoch and value as decay value\n",
    "lr_decay_schedule = {\n",
    "    5000: 0.01,\n",
    "    9000: 0.01\n",
    "}\n",
    "yolo_optimizer = YOLOOptimizer(batch_size=1, subdivisions=1, learning_rate=0.05, lr_decay_schedule=lr_decay_schedule)"
   ]
  },
  {
   "cell_type": "markdown",
   "metadata": {},
   "source": [
    "#### Yolov3 Network\n",
    "Finally, the yolo network "
   ]
  },
  {
   "cell_type": "code",
   "execution_count": 20,
   "metadata": {},
   "outputs": [
    {
     "ename": "NameError",
     "evalue": "name 'YOLONetwork' is not defined",
     "output_type": "error",
     "traceback": [
      "\u001b[0;31m---------------------------------------------------------------------------\u001b[0m",
      "\u001b[0;31mNameError\u001b[0m                                 Traceback (most recent call last)",
      "\u001b[0;32m<ipython-input-20-34139ee786fd>\u001b[0m in \u001b[0;36m<module>\u001b[0;34m\u001b[0m\n\u001b[0;32m----> 1\u001b[0;31m \u001b[0myolo_net\u001b[0m \u001b[0;34m=\u001b[0m \u001b[0mYOLONetwork\u001b[0m\u001b[0;34m(\u001b[0m\u001b[0minput_dim\u001b[0m\u001b[0;34m=\u001b[0m\u001b[0;34m(\u001b[0m\u001b[0;36m608\u001b[0m\u001b[0;34m,\u001b[0m\u001b[0;36m608\u001b[0m\u001b[0;34m,\u001b[0m\u001b[0;36m3\u001b[0m\u001b[0;34m)\u001b[0m\u001b[0;34m,\u001b[0m\u001b[0mimage_augmentation\u001b[0m\u001b[0;34m=\u001b[0m\u001b[0mimg_aug\u001b[0m\u001b[0;34m,\u001b[0m \u001b[0moptimizer\u001b[0m\u001b[0;34m=\u001b[0m\u001b[0myolo_optimizer\u001b[0m\u001b[0;34m,\u001b[0m \u001b[0mlayers\u001b[0m\u001b[0;34m=\u001b[0m\u001b[0myolov3_layers\u001b[0m\u001b[0;34m)\u001b[0m\u001b[0;34m\u001b[0m\u001b[0;34m\u001b[0m\u001b[0m\n\u001b[0m",
      "\u001b[0;31mNameError\u001b[0m: name 'YOLONetwork' is not defined"
     ]
    }
   ],
   "source": [
    "yolo_net = YOLONetwork(input_dim=(608,608,3),image_augmentation=img_aug, optimizer=yolo_optimizer, layers=yolov3_layers)"
   ]
  },
  {
   "cell_type": "code",
   "execution_count": null,
   "metadata": {},
   "outputs": [],
   "source": []
  },
  {
   "cell_type": "code",
   "execution_count": null,
   "metadata": {},
   "outputs": [],
   "source": []
  }
 ],
 "metadata": {
  "kernelspec": {
   "display_name": "Python 3",
   "language": "python",
   "name": "python3"
  },
  "language_info": {
   "codemirror_mode": {
    "name": "ipython",
    "version": 3
   },
   "file_extension": ".py",
   "mimetype": "text/x-python",
   "name": "python",
   "nbconvert_exporter": "python",
   "pygments_lexer": "ipython3",
   "version": "3.7.1"
  }
 },
 "nbformat": 4,
 "nbformat_minor": 2
}
