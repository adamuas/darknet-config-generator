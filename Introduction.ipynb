{
 "cells": [
  {
   "cell_type": "markdown",
   "metadata": {},
   "source": [
    "# Darknet Network Config Generator\n",
    "\n",
    "The Darknet Network Config Generator (DNetConfigGen) allows you to describe custom networks in keras-like fashion and generate a configuration file that you can use with your darknet trainer.\n"
   ]
  },
  {
   "cell_type": "code",
   "execution_count": 3,
   "metadata": {},
   "outputs": [],
   "source": [
    "from darknet_yolov3.config_generator.yolo_connections import *\n",
    "from darknet_yolov3.config_generator.yolo_layers import *\n",
    "from darknet_yolov3.config_generator.yolo_optimizers import *\n",
    "from darknet_yolov3.config_generator.yolo_preprocess import *\n",
    "from darknet_yolov3.config_generator.common import *\n",
    "from darknet_yolov3.config_generator.yolo_network import get_yolov3\n",
    "from darknet_yolov3.config_generator.yolo_darknet import YOLONetwork"
   ]
  },
  {
   "cell_type": "markdown",
   "metadata": {},
   "source": [
    "## Usage Example - YoloV3 Network\n",
    "\n",
    "\n",
    "To use the network configuration generator, simply import yolo_network and yolo network"
   ]
  },
  {
   "cell_type": "markdown",
   "metadata": {},
   "source": [
    "#### Yolov3 Network Layers"
   ]
  },
  {
   "cell_type": "code",
   "execution_count": 5,
   "metadata": {},
   "outputs": [],
   "source": [
    "# get yolov3 network layers (included with config generator - feel free to extend this)\n",
    "yolov3_layers = get_yolov3(num_classes=80, anchors=YOLO_ANCHORS, num_anchors=9)"
   ]
  },
  {
   "cell_type": "markdown",
   "metadata": {},
   "source": [
    "#### Yolov3 Image Augmentation "
   ]
  },
  {
   "cell_type": "code",
   "execution_count": 11,
   "metadata": {},
   "outputs": [],
   "source": [
    "# image augmentation\n",
    "img_aug = YOLOImageAugmentation(angle=20)"
   ]
  },
  {
   "cell_type": "markdown",
   "metadata": {},
   "source": [
    "#### Yolov3 Optimizer"
   ]
  },
  {
   "cell_type": "code",
   "execution_count": 12,
   "metadata": {},
   "outputs": [],
   "source": [
    "# learning rate decay with key as epoch and value as decay value\n",
    "lr_decay_schedule = {\n",
    "    5000: 0.01,\n",
    "    9000: 0.01\n",
    "}\n",
    "yolo_optimizer = YOLOOptimizer(batch_size=1, subdivisions=1, learning_rate=0.05, lr_decay_schedule=lr_decay_schedule)"
   ]
  },
  {
   "cell_type": "markdown",
   "metadata": {},
   "source": [
    "#### Yolov3 Network\n",
    "Finally, the yolo network which takes in input dimensions (input_dim), image augmentation, optimizer, and layers."
   ]
  },
  {
   "cell_type": "code",
   "execution_count": 13,
   "metadata": {},
   "outputs": [],
   "source": [
    "yolo_net = YOLONetwork(input_dim=(608,608,3),image_augmentation=img_aug, optimizer=yolo_optimizer, layers=yolov3_layers)"
   ]
  },
  {
   "cell_type": "markdown",
   "metadata": {},
   "source": [
    "#### Export Network Configuration File\n",
    "Now we can export the network configuration file"
   ]
  },
  {
   "cell_type": "code",
   "execution_count": 14,
   "metadata": {},
   "outputs": [],
   "source": [
    "yolo_net.generate_config('./example_generated.cfg')"
   ]
  }
 ],
 "metadata": {
  "kernelspec": {
   "display_name": "Python 3",
   "language": "python",
   "name": "python3"
  },
  "language_info": {
   "codemirror_mode": {
    "name": "ipython",
    "version": 3
   },
   "file_extension": ".py",
   "mimetype": "text/x-python",
   "name": "python",
   "nbconvert_exporter": "python",
   "pygments_lexer": "ipython3",
   "version": "3.7.1"
  }
 },
 "nbformat": 4,
 "nbformat_minor": 2
}
